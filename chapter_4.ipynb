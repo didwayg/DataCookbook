{
 "cells": [
  {
   "cell_type": "markdown",
   "id": "e3965d4d",
   "metadata": {},
   "source": [
    "# Recipe 1: Handling Complex Data Structures\n",
    "\n",
    "In this section, we'll explore how to handle complex data structures within a pandas DataFrame. Specifically, we will focus on the 'genres' column in the 'artists_with_genres' dataset, which contains lists of genres for each artist. Our goal is to transform these lists into a more manageable structure for analysis."
   ]
  },
  {
   "cell_type": "code",
   "execution_count": 7,
   "id": "2c01b9ef",
   "metadata": {},
   "outputs": [],
   "source": [
    "import pandas as pd\n"
   ]
  },
  {
   "cell_type": "code",
   "execution_count": 8,
   "id": "77f608ab",
   "metadata": {},
   "outputs": [],
   "source": [
    "artists_with_genres = pd.read_csv('data/artists_with_genres.csv')"
   ]
  },
  {
   "cell_type": "markdown",
   "id": "c683decb",
   "metadata": {},
   "source": [
    "## Data Preparation and Cleaning\n",
    "\n",
    "Before we begin analyzing the data, it's crucial to clean and prepare it. This involves removing entries that don't have associated genres and ensuring our data is in the correct format for analysis."
   ]
  },
  {
   "cell_type": "code",
   "execution_count": 9,
   "id": "26cd97f5",
   "metadata": {},
   "outputs": [],
   "source": [
    "# Removing artists without genres\n",
    "artists_with_genres = artists_with_genres[artists_with_genres['genres'] != 'No genre found for this artist']\n",
    "artists_with_genres = artists_with_genres[artists_with_genres['genres'] != '[]']"
   ]
  },
  {
   "cell_type": "markdown",
   "id": "7c2dc89f",
   "metadata": {},
   "source": [
    "## Exploding Nested Lists\n",
    "\n",
    "The 'explode' method in pandas is incredibly useful for dealing with columns that contain lists. By 'exploding' these lists, we can transform each element into a separate row, making the data easier to analyze."
   ]
  },
  {
   "cell_type": "code",
   "execution_count": 10,
   "id": "b13bd424",
   "metadata": {},
   "outputs": [],
   "source": [
    "import ast\n",
    "artists_with_genres['genres'] = artists_with_genres['genres'].apply(ast.literal_eval)\n",
    "artists_with_genres_exploded = artists_with_genres.explode('genres')"
   ]
  },
  {
   "cell_type": "markdown",
   "metadata": {},
   "source": [
    "Now we have some actual data we can work with. We can group by genre and find the top listed genres:"
   ]
  },
  {
   "cell_type": "code",
   "execution_count": 15,
   "metadata": {},
   "outputs": [
    {
     "data": {
      "text/plain": [
       "genres\n",
       "pov: indie         45997.525317\n",
       "rap                20944.388267\n",
       "small room         19843.297333\n",
       "bedroom pop        19261.112017\n",
       "alternative emo    19009.134033\n",
       "emo                18888.427450\n",
       "bubblegrunge       16570.068900\n",
       "pop                15793.443133\n",
       "indie pop          15420.125350\n",
       "lo-fi emo          14329.553100\n",
       "Name: mins_played, dtype: float64"
      ]
     },
     "execution_count": 15,
     "metadata": {},
     "output_type": "execute_result"
    }
   ],
   "source": [
    "genre_totals = artists_with_genres_exploded.groupby('genres')['mins_played'].sum()\n",
    "# Sort the values and select top 10 genres for the viz\n",
    "top_genres = genre_totals.sort_values(ascending=False).head(10)\n",
    "top_genres"
   ]
  },
  {
   "cell_type": "markdown",
   "id": "c358e61b",
   "metadata": {},
   "source": [
    "# Recipe 2: Combining and Reshaping Data\n",
    "\n",
    "In this section, we delve into the techniques of merging/joining different datasets and reshaping data using pivot tables. Merging is a process where we combine two datasets based on a common attribute, enriching our data for deeper analysis. Pivot tables help us summarize and reorganize our data, making it easier to draw insights. We will use the 'artists_with_genres' and 'songs' datasets to demonstrate these concepts."
   ]
  },
  {
   "cell_type": "code",
   "execution_count": 16,
   "id": "b4ee5cef",
   "metadata": {},
   "outputs": [],
   "source": [
    "songs = pd.read_csv('data/songs_with_audio_features.csv')"
   ]
  },
  {
   "cell_type": "markdown",
   "id": "fbd4e90e",
   "metadata": {},
   "source": [
    "## Merging Data\n",
    "\n",
    "Merging datasets is a fundamental technique in data analysis, allowing us to combine information from different sources. There are various types of merges such as:\n",
    "- **Inner Merge**: Combines records that have matching values in both datasets.\n",
    "- **Outer Merge**: Includes all records from both datasets, filling in NaNs for missing matches.\n",
    "- **Left/Right Merge**: Includes all records from the left/right dataset and the matched records from the other dataset.\n",
    "\n",
    "In our case, we'll demonstrate an example of an inner merge."
   ]
  },
  {
   "cell_type": "code",
   "execution_count": null,
   "id": "00e104df",
   "metadata": {},
   "outputs": [],
   "source": [
    "# 'artist name' is the common key in both datasets. We can merge on that column. \n",
    "merged_data = pd.merge(songs, artists_with_genres_exploded,how = 'inner',on='artist name')"
   ]
  },
  {
   "cell_type": "markdown",
   "id": "8c5ab4c3",
   "metadata": {},
   "source": [
    "## Creating Pivot Tables\n",
    "\n",
    "Pivot tables are powerful tools in pandas that allow us to reorganize, group, and summarize our data. They are particularly useful for statistical analysis. In our example, we will create a pivot table to analyze a specific attribute, like 'danceability', across different genres."
   ]
  },
  {
   "cell_type": "code",
   "execution_count": 32,
   "metadata": {},
   "outputs": [],
   "source": [
    "# Creating a pivot table\n",
    "# This example calculates the average 'danceability' for each genre\n",
    "pivot_table = merged_data.pivot_table(values='danceability', index='genres', aggfunc='mean')\n"
   ]
  },
  {
   "cell_type": "code",
   "execution_count": 33,
   "metadata": {},
   "outputs": [
    {
     "data": {
      "text/html": [
       "<div>\n",
       "<style scoped>\n",
       "    .dataframe tbody tr th:only-of-type {\n",
       "        vertical-align: middle;\n",
       "    }\n",
       "\n",
       "    .dataframe tbody tr th {\n",
       "        vertical-align: top;\n",
       "    }\n",
       "\n",
       "    .dataframe thead th {\n",
       "        text-align: right;\n",
       "    }\n",
       "</style>\n",
       "<table border=\"1\" class=\"dataframe\">\n",
       "  <thead>\n",
       "    <tr style=\"text-align: right;\">\n",
       "      <th></th>\n",
       "      <th>danceability</th>\n",
       "    </tr>\n",
       "    <tr>\n",
       "      <th>genres</th>\n",
       "      <th></th>\n",
       "    </tr>\n",
       "  </thead>\n",
       "  <tbody>\n",
       "    <tr>\n",
       "      <th>21st century classical</th>\n",
       "      <td>0.262250</td>\n",
       "    </tr>\n",
       "    <tr>\n",
       "      <th>5th wave emo</th>\n",
       "      <td>0.531017</td>\n",
       "    </tr>\n",
       "    <tr>\n",
       "      <th>8-bit</th>\n",
       "      <td>0.909000</td>\n",
       "    </tr>\n",
       "    <tr>\n",
       "      <th>a cappella</th>\n",
       "      <td>0.558839</td>\n",
       "    </tr>\n",
       "    <tr>\n",
       "      <th>abstract</th>\n",
       "      <td>0.398600</td>\n",
       "    </tr>\n",
       "    <tr>\n",
       "      <th>...</th>\n",
       "      <td>...</td>\n",
       "    </tr>\n",
       "    <tr>\n",
       "      <th>yugoslav new wave</th>\n",
       "      <td>0.510500</td>\n",
       "    </tr>\n",
       "    <tr>\n",
       "      <th>yugoslav rock</th>\n",
       "      <td>0.510500</td>\n",
       "    </tr>\n",
       "    <tr>\n",
       "      <th>zilizopendwa</th>\n",
       "      <td>0.750000</td>\n",
       "    </tr>\n",
       "    <tr>\n",
       "      <th>zolo</th>\n",
       "      <td>0.616154</td>\n",
       "    </tr>\n",
       "    <tr>\n",
       "      <th>zydeco</th>\n",
       "      <td>0.722000</td>\n",
       "    </tr>\n",
       "  </tbody>\n",
       "</table>\n",
       "<p>1831 rows × 1 columns</p>\n",
       "</div>"
      ],
      "text/plain": [
       "                        danceability\n",
       "genres                              \n",
       "21st century classical      0.262250\n",
       "5th wave emo                0.531017\n",
       "8-bit                       0.909000\n",
       "a cappella                  0.558839\n",
       "abstract                    0.398600\n",
       "...                              ...\n",
       "yugoslav new wave           0.510500\n",
       "yugoslav rock               0.510500\n",
       "zilizopendwa                0.750000\n",
       "zolo                        0.616154\n",
       "zydeco                      0.722000\n",
       "\n",
       "[1831 rows x 1 columns]"
      ]
     },
     "execution_count": 33,
     "metadata": {},
     "output_type": "execute_result"
    }
   ],
   "source": [
    "pivot_table"
   ]
  },
  {
   "cell_type": "markdown",
   "metadata": {},
   "source": [
    "## Visualizing Data: Danceability by Genre with Matplotlib\n",
    "After our analysis with pivot tables, the next step is to visualize our findings. Visualization is a key aspect of data science, helping to communicate insights and patterns effectively. We will use matplotlib, a popular Python library for creating visualizations in Python.\n",
    "\n",
    "#### Steps in Creating Bar Charts with Matplotlib:\n",
    "\n",
    "##### Sort the Data: \n",
    "\n",
    "We start by sorting our data. For our purpose, we sort the genres based on their average danceability scores in ascending order. This arrangement helps in better comparison across genres.\n"
   ]
  },
  {
   "cell_type": "code",
   "execution_count": null,
   "metadata": {},
   "outputs": [],
   "source": [
    "least_danceable = pivot_table.sort_values(by='danceability', ascending = True).head(10)\n",
    "most_danceable = pivot_table.sort_values(by='danceability', ascending = False).head(10)"
   ]
  },
  {
   "cell_type": "markdown",
   "metadata": {},
   "source": [
    "\n",
    "##### Plotting the Data:\n",
    "\n",
    "We use the plot method on our DataFrame. By specifying kind='bar', we indicate that we want a bar chart.\n",
    "The sort_values function is crucial here as it determines the order in which the data will be displayed in the chart.\n",
    "Setting the Title and Labels:\n",
    "\n",
    "The title method is used to set the title of the chart. We create two charts, one showing the least danceable genres and the other showing the most danceable genres.\n",
    "With xlabel and ylabel, we label the x-axis and y-axis, making the chart more informative and easier to understand.\n",
    "Displaying the Chart:\n",
    "\n",
    "Finally, the show method is called to display the chart. This method draws the chart and presents it in a format that is easy to interpret.\n",
    "\n",
    "##### Implementing the Visualization:\n",
    "\n",
    "First, we will create a bar chart to visualize the genres with the lowest average danceability scores (Least Danceable). Then, we'll create another chart for the genres with the highest average danceability scores (Most Danceable). These visualizations will help us understand which music genres are typically more or less conducive to dancing.\n",
    "\n"
   ]
  },
  {
   "cell_type": "code",
   "execution_count": 37,
   "metadata": {},
   "outputs": [
    {
     "data": {
      "image/png": "[encoded data removed]",
      "text/plain": [
       "<Figure size 432x288 with 1 Axes>"
      ]
     },
     "metadata": {
      "needs_background": "light"
     },
     "output_type": "display_data"
    },
    {
     "data": {
      "image/png": "[encoded data removed]",
      "text/plain": [
       "<Figure size 432x288 with 1 Axes>"
      ]
     },
     "metadata": {
      "needs_background": "light"
     },
     "output_type": "display_data"
    }
   ],
   "source": [
    "import matplotlib.pyplot as plt\n",
    "\n",
    "least_danceable.sort_values('danceability', ascending=True).plot(kind='bar')\n",
    "plt.title('Average Danceability by Genre (least danceable)')\n",
    "plt.xlabel('Genre')\n",
    "plt.ylabel('Average Danceability')\n",
    "plt.show()\n",
    "\n",
    "most_danceable.sort_values('danceability', ascending=True).plot(kind='bar')\n",
    "plt.title('Average Danceability by Genre (most danceable')\n",
    "plt.xlabel('Genre')\n",
    "plt.ylabel('Average Danceability')\n",
    "plt.show()"
   ]
  }
 ],
 "metadata": {
  "kernelspec": {
   "display_name": "Python 3.9.12 ('base')",
   "language": "python",
   "name": "python3"
  },
  "language_info": {
   "codemirror_mode": {
    "name": "ipython",
    "version": 3
   },
   "file_extension": ".py",
   "mimetype": "text/x-python",
   "name": "python",
   "nbconvert_exporter": "python",
   "pygments_lexer": "ipython3",
   "version": "3.9.12"
  },
  "vscode": {
   "interpreter": {
    "hash": "be44935fcddb7a5b39cc12a7076549386e43a478b7f2a324b7f9efaa2ae6c3ab"
   }
  }
 },
 "nbformat": 4,
 "nbformat_minor": 2
}
