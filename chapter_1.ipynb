{
 "cells": [
  {
   "cell_type": "markdown",
   "metadata": {},
   "source": [
    "# Chapter 1: Introduction to Python for Data Science"
   ]
  },
  {
   "cell_type": "markdown",
   "metadata": {},
   "source": [
    "#### Getting Started\n",
    "\n",
    "Before we can begin exploring our data, we'll want to load in two great Python packages for data science.\n",
    "Pandas has lots of features built in to allow us to read, sort, summarize and group data.\n",
    "Numpy allows us to work with arrays and has features that allow us to use more advance mathematical techniques."
   ]
  },
  {
   "cell_type": "code",
   "execution_count": 1,
   "metadata": {},
   "outputs": [],
   "source": [
    "# importing a package as another name lets us call the package without having to\n",
    "# type out the whole name after it's run\n",
    "import pandas as pd \n",
    "import numpy as np"
   ]
  },
  {
   "cell_type": "markdown",
   "metadata": {},
   "source": [
    "## Recipe 1: Data Exploration with Python\n"
   ]
  },
  {
   "cell_type": "markdown",
   "metadata": {},
   "source": [
    "#### Loading and Viewing the Dataset\n",
    "We begin by loading the dataset and looking at the first few rows. This step gives us a glimpse into the structure of the dataset, helping us understand the type of data we're dealing with."
   ]
  },
  {
   "cell_type": "code",
   "execution_count": 3,
   "metadata": {},
   "outputs": [],
   "source": [
    "# Load the data\n",
    "file_path = 'data/model_state.csv'\n",
    "\n",
    "# pandas has a .read_csv method that returns a DF object with the data from the csv\n",
    "data = pd.read_csv(file_path)"
   ]
  },
  {
   "cell_type": "markdown",
   "metadata": {},
   "source": [
    "We can checkout the first few rows of the data using the .head() function:"
   ]
  },
  {
   "cell_type": "code",
   "execution_count": 5,
   "metadata": {},
   "outputs": [
    {
     "data": {
      "text/html": [
       "<div>\n",
       "<style scoped>\n",
       "    .dataframe tbody tr th:only-of-type {\n",
       "        vertical-align: middle;\n",
       "    }\n",
       "\n",
       "    .dataframe tbody tr th {\n",
       "        vertical-align: top;\n",
       "    }\n",
       "\n",
       "    .dataframe thead th {\n",
       "        text-align: right;\n",
       "    }\n",
       "</style>\n",
       "<table border=\"1\" class=\"dataframe\">\n",
       "  <thead>\n",
       "    <tr style=\"text-align: right;\">\n",
       "      <th></th>\n",
       "      <th>fips</th>\n",
       "      <th>Fall</th>\n",
       "      <th>Spring</th>\n",
       "      <th>Summer</th>\n",
       "      <th>Winter</th>\n",
       "      <th>max_warming_season</th>\n",
       "      <th>Annual</th>\n",
       "      <th>STUSAB</th>\n",
       "      <th>STATE_NAME</th>\n",
       "      <th>STATENS</th>\n",
       "    </tr>\n",
       "  </thead>\n",
       "  <tbody>\n",
       "    <tr>\n",
       "      <th>0</th>\n",
       "      <td>1</td>\n",
       "      <td>-0.195668</td>\n",
       "      <td>-0.105862</td>\n",
       "      <td>-0.325009</td>\n",
       "      <td>0.458526</td>\n",
       "      <td>Winter</td>\n",
       "      <td>-0.035048</td>\n",
       "      <td>AL</td>\n",
       "      <td>Alabama</td>\n",
       "      <td>1779775</td>\n",
       "    </tr>\n",
       "    <tr>\n",
       "      <th>1</th>\n",
       "      <td>4</td>\n",
       "      <td>1.203951</td>\n",
       "      <td>1.384480</td>\n",
       "      <td>1.274455</td>\n",
       "      <td>1.388388</td>\n",
       "      <td>Winter</td>\n",
       "      <td>1.319880</td>\n",
       "      <td>AZ</td>\n",
       "      <td>Arizona</td>\n",
       "      <td>1779777</td>\n",
       "    </tr>\n",
       "    <tr>\n",
       "      <th>2</th>\n",
       "      <td>5</td>\n",
       "      <td>-0.042540</td>\n",
       "      <td>0.266399</td>\n",
       "      <td>0.058596</td>\n",
       "      <td>0.532247</td>\n",
       "      <td>Winter</td>\n",
       "      <td>0.214074</td>\n",
       "      <td>AR</td>\n",
       "      <td>Arkansas</td>\n",
       "      <td>68085</td>\n",
       "    </tr>\n",
       "    <tr>\n",
       "      <th>3</th>\n",
       "      <td>6</td>\n",
       "      <td>1.570921</td>\n",
       "      <td>1.449242</td>\n",
       "      <td>1.478335</td>\n",
       "      <td>1.412430</td>\n",
       "      <td>Fall</td>\n",
       "      <td>1.480561</td>\n",
       "      <td>CA</td>\n",
       "      <td>California</td>\n",
       "      <td>1779778</td>\n",
       "    </tr>\n",
       "    <tr>\n",
       "      <th>4</th>\n",
       "      <td>8</td>\n",
       "      <td>1.055309</td>\n",
       "      <td>1.436910</td>\n",
       "      <td>1.367845</td>\n",
       "      <td>1.838758</td>\n",
       "      <td>Winter</td>\n",
       "      <td>1.438589</td>\n",
       "      <td>CO</td>\n",
       "      <td>Colorado</td>\n",
       "      <td>1779779</td>\n",
       "    </tr>\n",
       "  </tbody>\n",
       "</table>\n",
       "</div>"
      ],
      "text/plain": [
       "   fips      Fall    Spring    Summer    Winter max_warming_season    Annual  \\\n",
       "0     1 -0.195668 -0.105862 -0.325009  0.458526             Winter -0.035048   \n",
       "1     4  1.203951  1.384480  1.274455  1.388388             Winter  1.319880   \n",
       "2     5 -0.042540  0.266399  0.058596  0.532247             Winter  0.214074   \n",
       "3     6  1.570921  1.449242  1.478335  1.412430               Fall  1.480561   \n",
       "4     8  1.055309  1.436910  1.367845  1.838758             Winter  1.438589   \n",
       "\n",
       "  STUSAB  STATE_NAME  STATENS  \n",
       "0     AL     Alabama  1779775  \n",
       "1     AZ     Arizona  1779777  \n",
       "2     AR    Arkansas    68085  \n",
       "3     CA  California  1779778  \n",
       "4     CO    Colorado  1779779  "
      ]
     },
     "execution_count": 5,
     "metadata": {},
     "output_type": "execute_result"
    }
   ],
   "source": [
    "first_few_rows = data.head()\n",
    "\n",
    "# just typing the variable at the end of the cell will display it\n",
    "\n",
    "first_few_rows"
   ]
  },
  {
   "cell_type": "markdown",
   "metadata": {},
   "source": [
    "#### Checking Data Types\n",
    "Next, we can check the data types of each column. Understanding the data types is crucial for data manipulation and choosing the right analysis techniques."
   ]
  },
  {
   "cell_type": "code",
   "execution_count": 6,
   "metadata": {},
   "outputs": [
    {
     "data": {
      "text/plain": [
       "fips                    int64\n",
       "Fall                  float64\n",
       "Spring                float64\n",
       "Summer                float64\n",
       "Winter                float64\n",
       "max_warming_season     object\n",
       "Annual                float64\n",
       "STUSAB                 object\n",
       "STATE_NAME             object\n",
       "STATENS                 int64\n",
       "dtype: object"
      ]
     },
     "execution_count": 6,
     "metadata": {},
     "output_type": "execute_result"
    }
   ],
   "source": [
    "data_types = data.dtypes\n",
    "data_types"
   ]
  },
  {
   "cell_type": "markdown",
   "metadata": {},
   "source": [
    "We can see that we some integer data columns, some floating point numbers (has a decimal place) and 3 object type columns. Object type just means we have multiple data types in that column."
   ]
  },
  {
   "cell_type": "markdown",
   "metadata": {},
   "source": [
    "#### Calculating Basic Statistics\n",
    "Lastly, we can calculate basic statistics for the numerical columns. These statistics include count, mean, standard deviation, minimum and maximum values, and quartiles."
   ]
  },
  {
   "cell_type": "code",
   "execution_count": 7,
   "metadata": {},
   "outputs": [
    {
     "data": {
      "text/html": [
       "<div>\n",
       "<style scoped>\n",
       "    .dataframe tbody tr th:only-of-type {\n",
       "        vertical-align: middle;\n",
       "    }\n",
       "\n",
       "    .dataframe tbody tr th {\n",
       "        vertical-align: top;\n",
       "    }\n",
       "\n",
       "    .dataframe thead th {\n",
       "        text-align: right;\n",
       "    }\n",
       "</style>\n",
       "<table border=\"1\" class=\"dataframe\">\n",
       "  <thead>\n",
       "    <tr style=\"text-align: right;\">\n",
       "      <th></th>\n",
       "      <th>fips</th>\n",
       "      <th>Fall</th>\n",
       "      <th>Spring</th>\n",
       "      <th>Summer</th>\n",
       "      <th>Winter</th>\n",
       "      <th>Annual</th>\n",
       "      <th>STATENS</th>\n",
       "    </tr>\n",
       "  </thead>\n",
       "  <tbody>\n",
       "    <tr>\n",
       "      <th>count</th>\n",
       "      <td>48.000000</td>\n",
       "      <td>48.000000</td>\n",
       "      <td>48.000000</td>\n",
       "      <td>48.000000</td>\n",
       "      <td>48.000000</td>\n",
       "      <td>48.000000</td>\n",
       "      <td>4.800000e+01</td>\n",
       "    </tr>\n",
       "    <tr>\n",
       "      <th>mean</th>\n",
       "      <td>30.187500</td>\n",
       "      <td>0.785324</td>\n",
       "      <td>1.004280</td>\n",
       "      <td>0.773815</td>\n",
       "      <td>1.668654</td>\n",
       "      <td>1.060972</td>\n",
       "      <td>1.480213e+06</td>\n",
       "    </tr>\n",
       "    <tr>\n",
       "      <th>std</th>\n",
       "      <td>15.448826</td>\n",
       "      <td>0.523901</td>\n",
       "      <td>0.480059</td>\n",
       "      <td>0.630515</td>\n",
       "      <td>0.713727</td>\n",
       "      <td>0.545513</td>\n",
       "      <td>4.895437e+05</td>\n",
       "    </tr>\n",
       "    <tr>\n",
       "      <th>min</th>\n",
       "      <td>1.000000</td>\n",
       "      <td>-0.195668</td>\n",
       "      <td>-0.105862</td>\n",
       "      <td>-0.325009</td>\n",
       "      <td>0.339203</td>\n",
       "      <td>-0.035048</td>\n",
       "      <td>6.808500e+04</td>\n",
       "    </tr>\n",
       "    <tr>\n",
       "      <th>25%</th>\n",
       "      <td>18.750000</td>\n",
       "      <td>0.361859</td>\n",
       "      <td>0.724370</td>\n",
       "      <td>0.212762</td>\n",
       "      <td>1.191115</td>\n",
       "      <td>0.641008</td>\n",
       "      <td>1.203653e+06</td>\n",
       "    </tr>\n",
       "    <tr>\n",
       "      <th>50%</th>\n",
       "      <td>30.500000</td>\n",
       "      <td>0.769284</td>\n",
       "      <td>1.074631</td>\n",
       "      <td>0.866977</td>\n",
       "      <td>1.507633</td>\n",
       "      <td>1.102286</td>\n",
       "      <td>1.779782e+06</td>\n",
       "    </tr>\n",
       "    <tr>\n",
       "      <th>75%</th>\n",
       "      <td>42.500000</td>\n",
       "      <td>1.163273</td>\n",
       "      <td>1.358113</td>\n",
       "      <td>1.280039</td>\n",
       "      <td>2.274480</td>\n",
       "      <td>1.518205</td>\n",
       "      <td>1.779795e+06</td>\n",
       "    </tr>\n",
       "    <tr>\n",
       "      <th>max</th>\n",
       "      <td>56.000000</td>\n",
       "      <td>1.655732</td>\n",
       "      <td>1.759266</td>\n",
       "      <td>2.114864</td>\n",
       "      <td>3.145933</td>\n",
       "      <td>2.038868</td>\n",
       "      <td>1.785534e+06</td>\n",
       "    </tr>\n",
       "  </tbody>\n",
       "</table>\n",
       "</div>"
      ],
      "text/plain": [
       "            fips       Fall     Spring     Summer     Winter     Annual  \\\n",
       "count  48.000000  48.000000  48.000000  48.000000  48.000000  48.000000   \n",
       "mean   30.187500   0.785324   1.004280   0.773815   1.668654   1.060972   \n",
       "std    15.448826   0.523901   0.480059   0.630515   0.713727   0.545513   \n",
       "min     1.000000  -0.195668  -0.105862  -0.325009   0.339203  -0.035048   \n",
       "25%    18.750000   0.361859   0.724370   0.212762   1.191115   0.641008   \n",
       "50%    30.500000   0.769284   1.074631   0.866977   1.507633   1.102286   \n",
       "75%    42.500000   1.163273   1.358113   1.280039   2.274480   1.518205   \n",
       "max    56.000000   1.655732   1.759266   2.114864   3.145933   2.038868   \n",
       "\n",
       "            STATENS  \n",
       "count  4.800000e+01  \n",
       "mean   1.480213e+06  \n",
       "std    4.895437e+05  \n",
       "min    6.808500e+04  \n",
       "25%    1.203653e+06  \n",
       "50%    1.779782e+06  \n",
       "75%    1.779795e+06  \n",
       "max    1.785534e+06  "
      ]
     },
     "execution_count": 7,
     "metadata": {},
     "output_type": "execute_result"
    }
   ],
   "source": [
    "basic_statistics = data.describe()\n",
    "basic_statistics"
   ]
  },
  {
   "cell_type": "markdown",
   "metadata": {},
   "source": [
    "We can interpret this by looking across all of the metrics and notice:\n",
    "    \n",
    "    - We have 48 values for each column (count)\n",
    "    - The average annual temperature change was +1.060972 (mean)\n",
    "    - The maximum temperature chage in the Winter was 3.145933 (max)\n",
    "    - The median temperature change in the Fall was 0.769284 (50%)"
   ]
  },
  {
   "cell_type": "markdown",
   "metadata": {},
   "source": [
    "## Recipe 2: NumPy Operations on Data\n",
    "\n",
    "In this recipe, we focus on performing statistical operations using NumPy on a specific season's temperature data. We chose the 'Summer' season for this example.\n",
    "\n"
   ]
  },
  {
   "cell_type": "markdown",
   "metadata": {},
   "source": [
    "#### Extracting Summer Temperature Data\n",
    "First, we extracted the 'Summer' temperature data from our dataset. This gave us an array of temperature changes for each state during the summer season."
   ]
  },
  {
   "cell_type": "code",
   "execution_count": 8,
   "metadata": {},
   "outputs": [
    {
     "data": {
      "text/plain": [
       "array([-0.32500882,  1.27445503,  0.05859612,  1.4783351 ,  1.3678448 ,\n",
       "        1.58062787,  1.52287831,  0.91445503, -0.01605644,  1.07271958,\n",
       "        0.21748148,  0.01807407,  0.06171429,  0.49185185, -0.19575309,\n",
       "        0.19860317,  1.42756966,  1.18030335,  1.59461023,  1.05052557,\n",
       "        0.90725926, -0.20665961,  0.01409524,  1.06418342,  0.5089806 ,\n",
       "        1.35301587,  1.29679012,  1.7387231 ,  1.10857143,  0.70418342,\n",
       "        0.39226808,  1.00040917,  0.2531358 ,  0.07994356,  1.61322046,\n",
       "        0.53399647,  2.1148642 ,  0.29062434,  0.82669489, -0.01742504,\n",
       "        0.35722046,  1.70275838,  1.04533333,  0.49347443,  1.15332628,\n",
       "        0.10457848,  0.47966138,  1.25605644])"
      ]
     },
     "execution_count": 8,
     "metadata": {},
     "output_type": "execute_result"
    }
   ],
   "source": [
    "# using brackets ['Column_Name'] after a pandas DF object lets you access the \"Column_Name\" column\n",
    "# an individual column is a series and the values can be accessed using .values\n",
    "summer_temps = data['Summer'].values\n",
    "summer_temps"
   ]
  },
  {
   "cell_type": "markdown",
   "metadata": {},
   "source": [
    "#### Calculating Statistical Measures\n",
    "Using NumPy, we can calculate the following statistical measures for the Summer temperature data:"
   ]
  },
  {
   "cell_type": "markdown",
   "metadata": {},
   "source": [
    "1. Mean Temperature: The average temperature change during the summer across all states."
   ]
  },
  {
   "cell_type": "code",
   "execution_count": 10,
   "metadata": {},
   "outputs": [
    {
     "name": "stdout",
     "output_type": "stream",
     "text": [
      "Mean summer temperature is: 0.7738148148148148\n"
     ]
    }
   ],
   "source": [
    "mean_summer_temp = np.mean(summer_temps)\n",
    "print(\"Mean summer temperature is:\", mean_summer_temp)"
   ]
  },
  {
   "cell_type": "markdown",
   "metadata": {},
   "source": [
    "2. Median Temperature: The median temperature change, providing a middle value that separates the higher half from the lower half of the temperature data."
   ]
  },
  {
   "cell_type": "code",
   "execution_count": 11,
   "metadata": {},
   "outputs": [
    {
     "name": "stdout",
     "output_type": "stream",
     "text": [
      "Median summer temperature is: 0.8669770723103998\n"
     ]
    }
   ],
   "source": [
    "median_summer_temp = np.median(summer_temps)\n",
    "print(\"Median summer temperature is:\", median_summer_temp)\n"
   ]
  },
  {
   "cell_type": "markdown",
   "metadata": {},
   "source": [
    "3. Standard Deviation: This measures the amount of variation or dispersion in the summer temperature data."
   ]
  },
  {
   "cell_type": "code",
   "execution_count": 12,
   "metadata": {},
   "outputs": [
    {
     "name": "stdout",
     "output_type": "stream",
     "text": [
      "Mean summer temperature is: 0.6239120874061266\n"
     ]
    }
   ],
   "source": [
    "std_dev_summer_temp = np.std(summer_temps)\n",
    "print(\"Mean summer temperature is:\", std_dev_summer_temp)\n"
   ]
  }
 ],
 "metadata": {
  "kernelspec": {
   "display_name": "Python 3.9.12 ('base')",
   "language": "python",
   "name": "python3"
  },
  "language_info": {
   "codemirror_mode": {
    "name": "ipython",
    "version": 3
   },
   "file_extension": ".py",
   "mimetype": "text/x-python",
   "name": "python",
   "nbconvert_exporter": "python",
   "pygments_lexer": "ipython3",
   "version": "3.9.12"
  },
  "orig_nbformat": 4,
  "vscode": {
   "interpreter": {
    "hash": "be44935fcddb7a5b39cc12a7076549386e43a478b7f2a324b7f9efaa2ae6c3ab"
   }
  }
 },
 "nbformat": 4,
 "nbformat_minor": 2
}
