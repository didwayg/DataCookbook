{
 "cells": [
  {
   "cell_type": "markdown",
   "metadata": {},
   "source": [
    "# Chapter 2: Data Manipulation with Pandas\n"
   ]
  },
  {
   "cell_type": "markdown",
   "metadata": {},
   "source": [
    "Import packages and load data:"
   ]
  },
  {
   "cell_type": "code",
   "execution_count": 1,
   "metadata": {},
   "outputs": [],
   "source": [
    "import pandas as pd \n",
    "import numpy as np"
   ]
  },
  {
   "cell_type": "code",
   "execution_count": 4,
   "metadata": {},
   "outputs": [],
   "source": [
    "state_avg_df = pd.read_csv('data/model_state.csv')\n",
    "state_by_year_df = pd.read_csv('data/climdiv_state_year.csv')"
   ]
  },
  {
   "cell_type": "markdown",
   "metadata": {},
   "source": [
    "## Recipe 1: Data Transformation in Pandas - Summary\n"
   ]
  },
  {
   "cell_type": "markdown",
   "metadata": {},
   "source": [
    "#### Filtering Data\n",
    "We filtered out states with significant annual temperature change, specifically those with changes greater than 1.5°C. This allows us to focus on states experiencing more substantial temperature shifts."
   ]
  },
  {
   "cell_type": "code",
   "execution_count": 5,
   "metadata": {},
   "outputs": [
    {
     "data": {
      "text/html": [
       "<div>\n",
       "<style scoped>\n",
       "    .dataframe tbody tr th:only-of-type {\n",
       "        vertical-align: middle;\n",
       "    }\n",
       "\n",
       "    .dataframe tbody tr th {\n",
       "        vertical-align: top;\n",
       "    }\n",
       "\n",
       "    .dataframe thead th {\n",
       "        text-align: right;\n",
       "    }\n",
       "</style>\n",
       "<table border=\"1\" class=\"dataframe\">\n",
       "  <thead>\n",
       "    <tr style=\"text-align: right;\">\n",
       "      <th></th>\n",
       "      <th>fips</th>\n",
       "      <th>Fall</th>\n",
       "      <th>Spring</th>\n",
       "      <th>Summer</th>\n",
       "      <th>Winter</th>\n",
       "      <th>max_warming_season</th>\n",
       "      <th>Annual</th>\n",
       "      <th>STUSAB</th>\n",
       "      <th>STATE_NAME</th>\n",
       "      <th>STATENS</th>\n",
       "    </tr>\n",
       "  </thead>\n",
       "  <tbody>\n",
       "    <tr>\n",
       "      <th>5</th>\n",
       "      <td>9</td>\n",
       "      <td>1.453093</td>\n",
       "      <td>1.543407</td>\n",
       "      <td>1.580628</td>\n",
       "      <td>2.633975</td>\n",
       "      <td>Winter</td>\n",
       "      <td>1.801492</td>\n",
       "      <td>CT</td>\n",
       "      <td>Connecticut</td>\n",
       "      <td>1779780</td>\n",
       "    </tr>\n",
       "    <tr>\n",
       "      <th>6</th>\n",
       "      <td>10</td>\n",
       "      <td>1.378949</td>\n",
       "      <td>1.537848</td>\n",
       "      <td>1.522878</td>\n",
       "      <td>2.201002</td>\n",
       "      <td>Winter</td>\n",
       "      <td>1.661683</td>\n",
       "      <td>DE</td>\n",
       "      <td>Delaware</td>\n",
       "      <td>1779781</td>\n",
       "    </tr>\n",
       "    <tr>\n",
       "      <th>16</th>\n",
       "      <td>23</td>\n",
       "      <td>1.463238</td>\n",
       "      <td>1.308374</td>\n",
       "      <td>1.427570</td>\n",
       "      <td>2.882751</td>\n",
       "      <td>Winter</td>\n",
       "      <td>1.744621</td>\n",
       "      <td>ME</td>\n",
       "      <td>Maine</td>\n",
       "      <td>1779787</td>\n",
       "    </tr>\n",
       "    <tr>\n",
       "      <th>18</th>\n",
       "      <td>25</td>\n",
       "      <td>1.442300</td>\n",
       "      <td>1.350744</td>\n",
       "      <td>1.594610</td>\n",
       "      <td>2.435160</td>\n",
       "      <td>Winter</td>\n",
       "      <td>1.700653</td>\n",
       "      <td>MA</td>\n",
       "      <td>Massachusetts</td>\n",
       "      <td>606926</td>\n",
       "    </tr>\n",
       "    <tr>\n",
       "      <th>19</th>\n",
       "      <td>26</td>\n",
       "      <td>1.149714</td>\n",
       "      <td>1.692995</td>\n",
       "      <td>1.050526</td>\n",
       "      <td>2.463788</td>\n",
       "      <td>Winter</td>\n",
       "      <td>1.576899</td>\n",
       "      <td>MI</td>\n",
       "      <td>Michigan</td>\n",
       "      <td>1779789</td>\n",
       "    </tr>\n",
       "    <tr>\n",
       "      <th>20</th>\n",
       "      <td>27</td>\n",
       "      <td>1.148642</td>\n",
       "      <td>1.444557</td>\n",
       "      <td>0.907259</td>\n",
       "      <td>2.716586</td>\n",
       "      <td>Winter</td>\n",
       "      <td>1.555189</td>\n",
       "      <td>MN</td>\n",
       "      <td>Minnesota</td>\n",
       "      <td>662849</td>\n",
       "    </tr>\n",
       "    <tr>\n",
       "      <th>26</th>\n",
       "      <td>33</td>\n",
       "      <td>1.331429</td>\n",
       "      <td>1.333616</td>\n",
       "      <td>1.296790</td>\n",
       "      <td>2.579852</td>\n",
       "      <td>Winter</td>\n",
       "      <td>1.622430</td>\n",
       "      <td>NH</td>\n",
       "      <td>New Hampshire</td>\n",
       "      <td>1779794</td>\n",
       "    </tr>\n",
       "    <tr>\n",
       "      <th>27</th>\n",
       "      <td>34</td>\n",
       "      <td>1.655732</td>\n",
       "      <td>1.759266</td>\n",
       "      <td>1.738723</td>\n",
       "      <td>2.748938</td>\n",
       "      <td>Winter</td>\n",
       "      <td>1.977277</td>\n",
       "      <td>NJ</td>\n",
       "      <td>New Jersey</td>\n",
       "      <td>1779795</td>\n",
       "    </tr>\n",
       "    <tr>\n",
       "      <th>31</th>\n",
       "      <td>38</td>\n",
       "      <td>1.115584</td>\n",
       "      <td>1.331175</td>\n",
       "      <td>1.000409</td>\n",
       "      <td>3.145933</td>\n",
       "      <td>Winter</td>\n",
       "      <td>1.654430</td>\n",
       "      <td>ND</td>\n",
       "      <td>North Dakota</td>\n",
       "      <td>1779797</td>\n",
       "    </tr>\n",
       "    <tr>\n",
       "      <th>34</th>\n",
       "      <td>41</td>\n",
       "      <td>1.301573</td>\n",
       "      <td>1.240705</td>\n",
       "      <td>1.613220</td>\n",
       "      <td>1.819386</td>\n",
       "      <td>Winter</td>\n",
       "      <td>1.500649</td>\n",
       "      <td>OR</td>\n",
       "      <td>Oregon</td>\n",
       "      <td>1155107</td>\n",
       "    </tr>\n",
       "    <tr>\n",
       "      <th>36</th>\n",
       "      <td>44</td>\n",
       "      <td>1.648734</td>\n",
       "      <td>1.748106</td>\n",
       "      <td>2.114864</td>\n",
       "      <td>2.680028</td>\n",
       "      <td>Winter</td>\n",
       "      <td>2.038868</td>\n",
       "      <td>RI</td>\n",
       "      <td>Rhode Island</td>\n",
       "      <td>1219835</td>\n",
       "    </tr>\n",
       "    <tr>\n",
       "      <th>41</th>\n",
       "      <td>49</td>\n",
       "      <td>1.357489</td>\n",
       "      <td>1.380219</td>\n",
       "      <td>1.702758</td>\n",
       "      <td>1.819443</td>\n",
       "      <td>Winter</td>\n",
       "      <td>1.580229</td>\n",
       "      <td>UT</td>\n",
       "      <td>Utah</td>\n",
       "      <td>1455989</td>\n",
       "    </tr>\n",
       "    <tr>\n",
       "      <th>42</th>\n",
       "      <td>50</td>\n",
       "      <td>1.288437</td>\n",
       "      <td>1.327393</td>\n",
       "      <td>1.045333</td>\n",
       "      <td>2.594892</td>\n",
       "      <td>Winter</td>\n",
       "      <td>1.546557</td>\n",
       "      <td>VT</td>\n",
       "      <td>Vermont</td>\n",
       "      <td>1779802</td>\n",
       "    </tr>\n",
       "    <tr>\n",
       "      <th>47</th>\n",
       "      <td>56</td>\n",
       "      <td>1.064226</td>\n",
       "      <td>1.617750</td>\n",
       "      <td>1.256056</td>\n",
       "      <td>2.034272</td>\n",
       "      <td>Winter</td>\n",
       "      <td>1.508755</td>\n",
       "      <td>WY</td>\n",
       "      <td>Wyoming</td>\n",
       "      <td>1779807</td>\n",
       "    </tr>\n",
       "  </tbody>\n",
       "</table>\n",
       "</div>"
      ],
      "text/plain": [
       "    fips      Fall    Spring    Summer    Winter max_warming_season    Annual  \\\n",
       "5      9  1.453093  1.543407  1.580628  2.633975             Winter  1.801492   \n",
       "6     10  1.378949  1.537848  1.522878  2.201002             Winter  1.661683   \n",
       "16    23  1.463238  1.308374  1.427570  2.882751             Winter  1.744621   \n",
       "18    25  1.442300  1.350744  1.594610  2.435160             Winter  1.700653   \n",
       "19    26  1.149714  1.692995  1.050526  2.463788             Winter  1.576899   \n",
       "20    27  1.148642  1.444557  0.907259  2.716586             Winter  1.555189   \n",
       "26    33  1.331429  1.333616  1.296790  2.579852             Winter  1.622430   \n",
       "27    34  1.655732  1.759266  1.738723  2.748938             Winter  1.977277   \n",
       "31    38  1.115584  1.331175  1.000409  3.145933             Winter  1.654430   \n",
       "34    41  1.301573  1.240705  1.613220  1.819386             Winter  1.500649   \n",
       "36    44  1.648734  1.748106  2.114864  2.680028             Winter  2.038868   \n",
       "41    49  1.357489  1.380219  1.702758  1.819443             Winter  1.580229   \n",
       "42    50  1.288437  1.327393  1.045333  2.594892             Winter  1.546557   \n",
       "47    56  1.064226  1.617750  1.256056  2.034272             Winter  1.508755   \n",
       "\n",
       "   STUSAB     STATE_NAME  STATENS  \n",
       "5      CT    Connecticut  1779780  \n",
       "6      DE       Delaware  1779781  \n",
       "16     ME          Maine  1779787  \n",
       "18     MA  Massachusetts   606926  \n",
       "19     MI       Michigan  1779789  \n",
       "20     MN      Minnesota   662849  \n",
       "26     NH  New Hampshire  1779794  \n",
       "27     NJ     New Jersey  1779795  \n",
       "31     ND   North Dakota  1779797  \n",
       "34     OR         Oregon  1155107  \n",
       "36     RI   Rhode Island  1219835  \n",
       "41     UT           Utah  1455989  \n",
       "42     VT        Vermont  1779802  \n",
       "47     WY        Wyoming  1779807  "
      ]
     },
     "execution_count": 5,
     "metadata": {},
     "output_type": "execute_result"
    }
   ],
   "source": [
    "significant_change_states = state_avg_df[state_avg_df['Annual'] > 1.5]\n",
    "significant_change_states"
   ]
  },
  {
   "cell_type": "markdown",
   "metadata": {},
   "source": [
    "Connecticut, Delaware, Maine, Massachusetts, Michigan, etc., showing varying degrees of annual temperature change above 1.5°C."
   ]
  },
  {
   "cell_type": "markdown",
   "metadata": {},
   "source": [
    "#### Grouping and Aggregating\n",
    "We calculated the average temperature change for each season across all states. This provides a general understanding of how temperature changes vary by season."
   ]
  },
  {
   "cell_type": "code",
   "execution_count": 6,
   "metadata": {},
   "outputs": [
    {
     "data": {
      "text/plain": [
       "Fall      0.785324\n",
       "Spring    1.004280\n",
       "Summer    0.773815\n",
       "Winter    1.668654\n",
       "dtype: float64"
      ]
     },
     "execution_count": 6,
     "metadata": {},
     "output_type": "execute_result"
    }
   ],
   "source": [
    "average_seasonal_change = state_avg_df[['Fall', 'Spring', 'Summer', 'Winter']].mean()\n",
    "average_seasonal_change"
   ]
  },
  {
   "cell_type": "markdown",
   "metadata": {},
   "source": [
    "#### Sorting\n",
    "We arranged the states by their temperature change in the Summer season in descending order. This helps identify which states are experiencing the greatest changes during summer."
   ]
  },
  {
   "cell_type": "code",
   "execution_count": 8,
   "metadata": {},
   "outputs": [
    {
     "data": {
      "text/html": [
       "<div>\n",
       "<style scoped>\n",
       "    .dataframe tbody tr th:only-of-type {\n",
       "        vertical-align: middle;\n",
       "    }\n",
       "\n",
       "    .dataframe tbody tr th {\n",
       "        vertical-align: top;\n",
       "    }\n",
       "\n",
       "    .dataframe thead th {\n",
       "        text-align: right;\n",
       "    }\n",
       "</style>\n",
       "<table border=\"1\" class=\"dataframe\">\n",
       "  <thead>\n",
       "    <tr style=\"text-align: right;\">\n",
       "      <th></th>\n",
       "      <th>STATE_NAME</th>\n",
       "      <th>Summer</th>\n",
       "    </tr>\n",
       "  </thead>\n",
       "  <tbody>\n",
       "    <tr>\n",
       "      <th>36</th>\n",
       "      <td>Rhode Island</td>\n",
       "      <td>2.114864</td>\n",
       "    </tr>\n",
       "    <tr>\n",
       "      <th>27</th>\n",
       "      <td>New Jersey</td>\n",
       "      <td>1.738723</td>\n",
       "    </tr>\n",
       "    <tr>\n",
       "      <th>41</th>\n",
       "      <td>Utah</td>\n",
       "      <td>1.702758</td>\n",
       "    </tr>\n",
       "    <tr>\n",
       "      <th>34</th>\n",
       "      <td>Oregon</td>\n",
       "      <td>1.613220</td>\n",
       "    </tr>\n",
       "    <tr>\n",
       "      <th>18</th>\n",
       "      <td>Massachusetts</td>\n",
       "      <td>1.594610</td>\n",
       "    </tr>\n",
       "  </tbody>\n",
       "</table>\n",
       "</div>"
      ],
      "text/plain": [
       "       STATE_NAME    Summer\n",
       "36   Rhode Island  2.114864\n",
       "27     New Jersey  1.738723\n",
       "41           Utah  1.702758\n",
       "34         Oregon  1.613220\n",
       "18  Massachusetts  1.594610"
      ]
     },
     "execution_count": 8,
     "metadata": {},
     "output_type": "execute_result"
    }
   ],
   "source": [
    "sorted_summer_change = state_avg_df.sort_values(by='Summer', ascending=False)[['STATE_NAME', 'Summer']]\n",
    "sorted_summer_change.head()"
   ]
  },
  {
   "cell_type": "markdown",
   "metadata": {},
   "source": [
    "We notice about that Rhode Island, New Jersey, and Utah etc. had the largest positive changes in temperature across the summers"
   ]
  }
 ],
 "metadata": {
  "kernelspec": {
   "display_name": "Python 3.9.12 ('base')",
   "language": "python",
   "name": "python3"
  },
  "language_info": {
   "codemirror_mode": {
    "name": "ipython",
    "version": 3
   },
   "file_extension": ".py",
   "mimetype": "text/x-python",
   "name": "python",
   "nbconvert_exporter": "python",
   "pygments_lexer": "ipython3",
   "version": "3.9.12"
  },
  "orig_nbformat": 4,
  "vscode": {
   "interpreter": {
    "hash": "be44935fcddb7a5b39cc12a7076549386e43a478b7f2a324b7f9efaa2ae6c3ab"
   }
  }
 },
 "nbformat": 4,
 "nbformat_minor": 2
}
